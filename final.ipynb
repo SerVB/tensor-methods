{
 "cells": [
  {
   "cell_type": "markdown",
   "metadata": {
    "collapsed": true,
    "pycharm": {
     "name": "#%% md\n"
    }
   },
   "source": [
    "# Отчет по работе с тензорными методами оптимизации\n",
    "Сразу же проделаем начальные технические операции."
   ]
  },
  {
   "cell_type": "code",
   "execution_count": 1,
   "outputs": [],
   "source": [
    "from datetime import datetime\n",
    "import matplotlib.pyplot as plt\n",
    "import numpy as np\n",
    "import pandas as pd\n",
    "import random\n",
    "import tensorflow as tf\n",
    "from tensorflow.keras.datasets import mnist\n",
    "from tensorflow.python.ops.gradients_impl import _hessian_vector_product\n",
    "from tqdm import tqdm"
   ],
   "metadata": {
    "collapsed": false,
    "pycharm": {
     "name": "#%%\n"
    }
   }
  },
  {
   "cell_type": "markdown",
   "source": [
    "## Часть 0. Оборудование\n",
    "Для расчетов будем использовать AMD Ryzen 2600X в качестве CPU и NVIDIA GeForce RTX 2070S в качестве GPU.\n",
    "\n",
    "В качестве вычислительного фреймворка будем использовать TensorFlow. Он позволяет создавать графы вычислений и вычислять их внутри различных сессий. В рамках сессии сохраняются значения переменных в памяти TF. Сессия определяет вычислительное устройство.\n",
    "\n",
    "Также будем использовать 16-ти битный float в качестве примитивного типа данных, потому что:\n",
    "* Он занимает не так много места в памяти, как float32 и float64 (актуально в основном для GPU, так как память ограничена дизайном устройства).\n",
    "* Производительность GPU тем выше, чем меньше битность примитивов (судя по [таблице на Википедии](https://en.wikipedia.org/wiki/List_of_Nvidia_graphics_processing_units#GeForce_20_series)).\n",
    "* Наши данные можно отнормировать, чтобы они находились близко к единице, поэтому потеря точности и ограничения абсолютных значений из-за использования float16 в наших задачах несущественны.\n",
    "\n",
    "Было установлено, что в первой части отчета при использовании float64 CPU выполняет вычисления быстрее GPU. При использовании float16 и float32 GPU обгоняет CPU. Более эта тема не затрагивается в отчете."
   ],
   "metadata": {
    "collapsed": false,
    "pycharm": {
     "name": "#%% md\n"
    }
   }
  },
  {
   "cell_type": "code",
   "execution_count": 2,
   "outputs": [],
   "source": [
    "dtype = np.float16"
   ],
   "metadata": {
    "collapsed": false,
    "pycharm": {
     "name": "#%%\n"
    }
   }
  },
  {
   "cell_type": "markdown",
   "source": [
    "## Часть 1. Сравнение времени вычисления автоградиента и произведения гессиана на вектор\n",
    "В качестве первой части отчета мне было предложено сравнить время вычислений пары функций TensorFlow на разных размерностях логистической регрессии и устройствах.\n",
    "\n",
    "Для этого я реализовал функцию для генерации данных для задачи логистической регрессии: нужно классифицировать только два класса, признаки первого класса находятся близко к нулю, а второго – близко к единице. Функция принимает количество генерируемых признаков и объектов.\n",
    "\n",
    "Объявим функцию."
   ],
   "metadata": {
    "collapsed": false,
    "pycharm": {
     "name": "#%% md\n"
    }
   }
  },
  {
   "cell_type": "code",
   "execution_count": 3,
   "outputs": [],
   "source": [
    "class_count = 2\n",
    "\n",
    "def generate_two_classes_data(feature_count: int, object_count: int):\n",
    "    \"\"\"\n",
    "    Generates two classes: the first class has features near 0, the second – near 1.\n",
    "    :returns features (with bias=1 feature), answers\n",
    "    \"\"\"\n",
    "    features = np.concatenate((\n",
    "        np.random.normal(\n",
    "            np.concatenate((\n",
    "                np.zeros([object_count // 2, feature_count], dtype=dtype),\n",
    "                np.ones([object_count - object_count // 2, feature_count], dtype=dtype)\n",
    "            )),\n",
    "            scale=0.1\n",
    "        ),\n",
    "        np.ones([object_count, 1], dtype=dtype)\n",
    "    ), axis=1)\n",
    "\n",
    "    answers = np.concatenate((\n",
    "        np.concatenate((\n",
    "            np.zeros([object_count // 2, 1], dtype=dtype),\n",
    "            np.ones([object_count - object_count // 2, 1], dtype=dtype)\n",
    "        )),\n",
    "        np.concatenate((\n",
    "            np.ones([object_count // 2, 1], dtype=dtype),\n",
    "            np.zeros([object_count - object_count // 2, 1], dtype=dtype)\n",
    "        ))\n",
    "    ), axis=1)\n",
    "\n",
    "    return features, answers"
   ],
   "metadata": {
    "collapsed": false,
    "pycharm": {
     "name": "#%%\n"
    }
   }
  },
  {
   "cell_type": "markdown",
   "source": [
    "Пример: сгенерируем три объекта с двумя признаками."
   ],
   "metadata": {
    "collapsed": false
   }
  },
  {
   "cell_type": "code",
   "execution_count": 4,
   "outputs": [
    {
     "name": "stdout",
     "output_type": "stream",
     "text": [
      "Матрица признаков:\n",
      "[[-0.18033548  0.05002789  1.        ]\n",
      " [ 1.12243988  0.94705769  1.        ]\n",
      " [ 0.97358936  0.9668083   1.        ]]\n",
      "Матрица классов:\n",
      "[[0. 1.]\n",
      " [1. 0.]\n",
      " [1. 0.]]\n"
     ]
    }
   ],
   "source": [
    "f, a = generate_two_classes_data(feature_count=2, object_count=3)\n",
    "print(\"Матрица признаков:\")\n",
    "print(f)\n",
    "print(\"Матрица классов:\")\n",
    "print(a)"
   ],
   "metadata": {
    "collapsed": false,
    "pycharm": {
     "name": "#%%\n"
    }
   }
  },
  {
   "cell_type": "markdown",
   "source": [
    "Реализуем функцию для тестирования времени.\n",
    "\n",
    "Она принимает матрицы признаков и ответов, сессию TensorFlow и количество тестов для усреднения.\n",
    "\n",
    "Функция строит граф вычисления логистической регрессии и градиента с произведением гессиана на вектор. Далее производится прогрев: один раз вычисления происходят без учета времени. После этого функция запускает несколько одинаковых вычислений и усредняет их время.\n",
    "\n",
    "В итоге функция возвращает среднее время вычисления градиента и произведения гессиана на вектор (в секундах)."
   ],
   "metadata": {
    "collapsed": false,
    "pycharm": {
     "name": "#%% md\n"
    }
   }
  },
  {
   "cell_type": "code",
   "execution_count": 5,
   "outputs": [],
   "source": [
    "def measure_time(features, answers, sess, avg_times):\n",
    "    print(f\"{datetime.now()}: Starting\")\n",
    "\n",
    "    with sess:\n",
    "        x = tf.constant(features, dtype=dtype)\n",
    "        y = tf.constant(answers, dtype=dtype)\n",
    "\n",
    "        W = tf.Variable(tf.ones([feature_count + 1, class_count], dtype))\n",
    "\n",
    "        predictions = tf.nn.softmax(tf.matmul(x, W))\n",
    "        cost = tf.nn.sigmoid_cross_entropy_with_logits(logits=predictions, labels=y)\n",
    "\n",
    "        g = tf.gradients(cost, W)[0]\n",
    "        h_vec_product = _hessian_vector_product(cost, [W], [W])[0]\n",
    "\n",
    "        init = tf.variables_initializer([W])\n",
    "\n",
    "        print(f\"{datetime.now()}: Graph created\")\n",
    "\n",
    "        sess.run(init)\n",
    "\n",
    "        print(f\"{datetime.now()}: Variables initialized\")\n",
    "\n",
    "        # Прогрев:\n",
    "        sess.run(g, feed_dict={x: features, y: answers})\n",
    "        sess.run(h_vec_product, feed_dict={x: features, y: answers})\n",
    "\n",
    "        print(f\"{datetime.now()}: Warm-up completed\")\n",
    "\n",
    "        g_deltas = []\n",
    "        h_vec_deltas = []\n",
    "\n",
    "        for i in range(avg_times):\n",
    "            start = datetime.now().timestamp()\n",
    "            sess.run(g, feed_dict={x: features, y: answers})\n",
    "            g_deltas.append(datetime.now().timestamp() - start)\n",
    "\n",
    "            start = datetime.now().timestamp()\n",
    "            sess.run(h_vec_product, feed_dict={x: features, y: answers})\n",
    "            h_vec_deltas.append(datetime.now().timestamp() - start)\n",
    "\n",
    "        g_delta = sum(g_deltas) / len(g_deltas)\n",
    "        h_vec_delta = sum(h_vec_deltas) / len(h_vec_deltas)\n",
    "\n",
    "        print(f\"{datetime.now()}: Completed\")\n",
    "\n",
    "        return g_delta, h_vec_delta"
   ],
   "metadata": {
    "collapsed": false,
    "pycharm": {
     "name": "#%%\n"
    }
   }
  },
  {
   "cell_type": "markdown",
   "source": [
    "Запустим наши бенчмарки. Усредним время трех вычислений. Выведем таблицу с результатами."
   ],
   "metadata": {
    "collapsed": false,
    "pycharm": {
     "name": "#%% md\n"
    }
   }
  },
  {
   "cell_type": "code",
   "execution_count": 6,
   "outputs": [
    {
     "name": "stdout",
     "output_type": "stream",
     "text": [
      "Features: 100, CPU:\n",
      "2020-06-13 19:35:43.688237: Starting\n",
      "WARNING:tensorflow:From c:\\users\\servb\\documents\\works\\tensor-methods\\venv\\lib\\site-packages\\tensorflow_core\\python\\ops\\nn_impl.py:183: where (from tensorflow.python.ops.array_ops) is deprecated and will be removed in a future version.\n",
      "Instructions for updating:\n",
      "Use tf.where in 2.0, which has the same broadcast rule as np.where\n",
      "2020-06-13 19:35:43.765234: Graph created\n",
      "2020-06-13 19:35:43.776235: Variables initialized\n",
      "2020-06-13 19:35:43.840246: Warm-up completed\n",
      "2020-06-13 19:35:43.843247: Completed\n",
      "Features: 100, GPU:\n",
      "2020-06-13 19:35:44.544394: Starting\n",
      "2020-06-13 19:35:44.603392: Graph created\n",
      "2020-06-13 19:35:44.856394: Variables initialized\n",
      "2020-06-13 19:35:45.206395: Warm-up completed\n",
      "2020-06-13 19:35:45.213393: Completed\n",
      "Features: 1000, CPU:\n",
      "2020-06-13 19:35:45.218395: Starting\n",
      "2020-06-13 19:35:45.287392: Graph created\n",
      "2020-06-13 19:35:45.310392: Variables initialized\n",
      "2020-06-13 19:35:45.387393: Warm-up completed\n",
      "2020-06-13 19:35:45.392393: Completed\n",
      "Features: 1000, GPU:\n",
      "2020-06-13 19:35:45.399450: Starting\n",
      "2020-06-13 19:35:45.511402: Graph created\n",
      "2020-06-13 19:35:45.543404: Variables initialized\n",
      "2020-06-13 19:35:45.645401: Warm-up completed\n",
      "2020-06-13 19:35:45.651404: Completed\n",
      "Features: 10000, CPU:\n",
      "2020-06-13 19:35:45.657401: Starting\n",
      "2020-06-13 19:35:45.808402: Graph created\n",
      "2020-06-13 19:35:45.844400: Variables initialized\n",
      "2020-06-13 19:35:45.949401: Warm-up completed\n",
      "2020-06-13 19:35:45.974400: Completed\n",
      "Features: 10000, GPU:\n",
      "2020-06-13 19:35:45.981403: Starting\n",
      "2020-06-13 19:35:46.135916: Graph created\n",
      "2020-06-13 19:35:46.179918: Variables initialized\n",
      "2020-06-13 19:35:46.286918: Warm-up completed\n",
      "2020-06-13 19:35:46.293918: Completed\n",
      "Features: 100000, CPU:\n",
      "2020-06-13 19:35:46.321920: Starting\n",
      "2020-06-13 19:35:47.288126: Graph created\n",
      "2020-06-13 19:35:47.339128: Variables initialized\n",
      "2020-06-13 19:35:47.483126: Warm-up completed\n",
      "2020-06-13 19:35:47.531841: Completed\n",
      "Features: 100000, GPU:\n",
      "2020-06-13 19:35:47.540842: Starting\n",
      "2020-06-13 19:35:48.521932: Graph created\n",
      "2020-06-13 19:35:48.587934: Variables initialized\n",
      "2020-06-13 19:35:48.737944: Warm-up completed\n",
      "2020-06-13 19:35:48.757944: Completed\n",
      "Features: 1000000, CPU:\n",
      "2020-06-13 19:35:48.986943: Starting\n",
      "2020-06-13 19:35:58.163273: Graph created\n",
      "2020-06-13 19:35:58.298274: Variables initialized\n",
      "2020-06-13 19:35:59.068275: Warm-up completed\n",
      "2020-06-13 19:35:59.467275: Completed\n",
      "Features: 1000000, GPU:\n",
      "2020-06-13 19:35:59.481274: Starting\n",
      "2020-06-13 19:36:08.846276: Graph created\n",
      "2020-06-13 19:36:09.054274: Variables initialized\n",
      "2020-06-13 19:36:09.874836: Warm-up completed\n",
      "2020-06-13 19:36:10.058837: Completed\n"
     ]
    },
    {
     "data": {
      "text/plain": "   Feature Count  GPU: Gradient Avg Time (secs)  \\\n0          100.0                       0.001000   \n1         1000.0                       0.001000   \n2        10000.0                       0.001334   \n3       100000.0                       0.003335   \n4      1000000.0                       0.030667   \n\n   GPU: H-Vec Product Avg Time (secs)  CPU: Gradient Avg Time (secs)  \\\n0                            0.001000                       0.001000   \n1                            0.001001                       0.000667   \n2                            0.001000                       0.003667   \n3                            0.002999                       0.008335   \n4                            0.030666                       0.063001   \n\n   CPU: H-Vec Product Avg Time (secs)  \n0                            0.000000  \n1                            0.000667  \n2                            0.004666  \n3                            0.007903  \n4                            0.069666  ",
      "text/html": "<div>\n<style scoped>\n    .dataframe tbody tr th:only-of-type {\n        vertical-align: middle;\n    }\n\n    .dataframe tbody tr th {\n        vertical-align: top;\n    }\n\n    .dataframe thead th {\n        text-align: right;\n    }\n</style>\n<table border=\"1\" class=\"dataframe\">\n  <thead>\n    <tr style=\"text-align: right;\">\n      <th></th>\n      <th>Feature Count</th>\n      <th>GPU: Gradient Avg Time (secs)</th>\n      <th>GPU: H-Vec Product Avg Time (secs)</th>\n      <th>CPU: Gradient Avg Time (secs)</th>\n      <th>CPU: H-Vec Product Avg Time (secs)</th>\n    </tr>\n  </thead>\n  <tbody>\n    <tr>\n      <th>0</th>\n      <td>100.0</td>\n      <td>0.001000</td>\n      <td>0.001000</td>\n      <td>0.001000</td>\n      <td>0.000000</td>\n    </tr>\n    <tr>\n      <th>1</th>\n      <td>1000.0</td>\n      <td>0.001000</td>\n      <td>0.001001</td>\n      <td>0.000667</td>\n      <td>0.000667</td>\n    </tr>\n    <tr>\n      <th>2</th>\n      <td>10000.0</td>\n      <td>0.001334</td>\n      <td>0.001000</td>\n      <td>0.003667</td>\n      <td>0.004666</td>\n    </tr>\n    <tr>\n      <th>3</th>\n      <td>100000.0</td>\n      <td>0.003335</td>\n      <td>0.002999</td>\n      <td>0.008335</td>\n      <td>0.007903</td>\n    </tr>\n    <tr>\n      <th>4</th>\n      <td>1000000.0</td>\n      <td>0.030667</td>\n      <td>0.030666</td>\n      <td>0.063001</td>\n      <td>0.069666</td>\n    </tr>\n  </tbody>\n</table>\n</div>"
     },
     "execution_count": 6,
     "metadata": {},
     "output_type": "execute_result"
    }
   ],
   "source": [
    "times = 3\n",
    "\n",
    "stats = pd.DataFrame(columns=[\n",
    "    \"Feature Count\",\n",
    "    \"GPU: Gradient Avg Time (secs)\", \"GPU: H-Vec Product Avg Time (secs)\",\n",
    "    \"CPU: Gradient Avg Time (secs)\", \"CPU: H-Vec Product Avg Time (secs)\",\n",
    "])\n",
    "\n",
    "for feature_count in (10**2, 10**3, 10**4, 10**5, 10**6):\n",
    "    object_count = 5\n",
    "\n",
    "    features, answers = generate_two_classes_data(feature_count=feature_count, object_count=object_count)\n",
    "\n",
    "    print(f\"Features: {feature_count}, CPU:\")\n",
    "    g_delta_cpu, h_vec_delta_cpu = measure_time(features, answers, tf.Session(config=tf.ConfigProto(device_count={\"GPU\": 0})), times)\n",
    "\n",
    "    print(f\"Features: {feature_count}, GPU:\")\n",
    "    g_delta_gpu, h_vec_delta_gpu = measure_time(features, answers, tf.Session(), times)\n",
    "\n",
    "    stats.loc[len(stats)] = [feature_count, g_delta_gpu, h_vec_delta_gpu, g_delta_cpu, h_vec_delta_cpu]\n",
    "\n",
    "stats"
   ],
   "metadata": {
    "collapsed": false,
    "pycharm": {
     "name": "#%%\n"
    }
   }
  },
  {
   "cell_type": "code",
   "execution_count": 9,
   "outputs": [
    {
     "data": {
      "text/plain": "<Figure size 432x288 with 1 Axes>",
      "image/png": "[encoded data removed]"
     },
     "metadata": {
      "needs_background": "light"
     },
     "output_type": "display_data"
    }
   ],
   "source": [
    "stats.plot(x=\"Feature Count\", logx=True)\n",
    "plt.show()"
   ],
   "metadata": {
    "collapsed": false,
    "pycharm": {
     "name": "#%%\n"
    }
   }
  },
  {
   "cell_type": "markdown",
   "source": [
    "Сразу же построили график. Выводы из графика:\n",
    "* Время вычисления градиента и произведения гессиана на вектор сравнимо.\n",
    "* На больших размерностях GPU показывает заметное преимущество по скорости вычислений.\n",
    "\n",
    "Также можно сделать вывод по логированию: копирование данных из памяти в TF занимает намного больше времени, чем вычисления."
   ],
   "metadata": {
    "collapsed": false,
    "pycharm": {
     "name": "#%% md\n"
    }
   }
  },
  {
   "cell_type": "markdown",
   "source": [
    "## Часть 2. Кубическая модель\n",
    "В качестве второй части отчета мне было предложено реализовать вычисление формулы 2.4 из документа <https://link.springer.com/content/pdf/10.1007/s10107-006-0706-8.pdf> и сравнить время вычислений на разных устройствах.\n",
    "\n",
    "Предлагалось в качестве функции $f$ использовать логистическую регрессию для данных MNIST, а также сократить автоматические вычисления градиента, по возможности вычислив его аналитически на максимальную глубину."
   ],
   "metadata": {
    "collapsed": false,
    "pycharm": {
     "name": "#%% md\n",
     "is_executing": true
    }
   }
  },
  {
   "cell_type": "markdown",
   "source": [
    "Далее перепишем задачу, используя более близкие к логистической регрессии обозначения.\n",
    "\n",
    "$Arg \\ min_y [scalarProd(f'(x), y-x) + \\frac{1}{2} \\cdot scalarProd(f''(x)(y-x), y-x) + \\frac{M}{6} ||y-x||^3]$ – решаем спуском.\n",
    "\n",
    "$y$ – текущие веса, размерность `[featureCount + 1, clsCount]` (`+ 1` из-за добавления `bias` признака). Заменяем на $W$.\n",
    "\n",
    "$Arg \\ min_W [scalarProd(f'(x), W-x) + \\frac{1}{2} \\cdot scalarProd(f''(x)(W-x), W-x) + \\frac{M}{6} ||W-x||^3]$\n",
    "\n",
    "$x$ – константа с весами, размерность `[featureCount + 1, clsCount]` (`+ 1` из-за добавления `bias` признака). Заменяем на $W_k$.\n",
    "\n",
    "$Arg \\ min_W [scalarProd(f'(W_k), W-W_k) + \\frac{1}{2} \\cdot scalarProd(f''(W_k)(W-W_k), W-W_k) + \\frac{M}{6} ||W-W_k||^3]$\n",
    "\n",
    "$f$ – заменяем на $cost$.\n",
    "\n",
    "$Arg \\ min_W [scalarProd(cost'_W(W_k), W-W_k) + \\frac{1}{2} \\cdot scalarProd(cost''_W(W_k)(W-W_k), W-W_k) + \\frac{M}{6} ||W-W_k||^3]$\n",
    "\n",
    "Меняем $cost''_W(W_k)(W-W_k)$ на $hVecProd$.\n",
    "\n",
    "$Arg \\ min_W [scalarProd(cost'_W(W_k), W-W_k) + \\frac{1}{2} \\cdot scalarProd(hVecProd(cost, W, W-W_k)(W_k), W-W_k) + \\frac{M}{6} ||W-W_k||^3]$\n",
    "\n",
    "Прописываем точный вызов градиента.\n",
    "\n",
    "$Arg \\ min_W [scalarProd(gradient(cost, W)(W_k), W-W_k) + \\frac{1}{2} \\cdot scalarProd(hVecProd(cost, W, W-W_k)(W_k), W-W_k) + \\frac{M}{6} ||W-W_k||^3]$\n",
    "\n",
    "$scalarProd$ трактуем как сумму поэлементных перемножений матриц, норма – корень из суммы квадратов элементов матрицы."
   ],
   "metadata": {
    "collapsed": false,
    "pycharm": {
     "name": "#%% md\n"
    }
   }
  },
  {
   "cell_type": "markdown",
   "source": [
    "Как видим, на каждом шаге нужно брать градиент суммы из трех слагаемых:\n",
    "\n",
    "$target = scalarProd(gradient(cost, W)(W_k), W-W_k) + \\frac{1}{2} \\cdot scalarProd(hVecProd(cost, W, W-W_k)(W_k), W-W_k) + \\frac{M}{6} ||W-W_k||^3$\n",
    "\n",
    "Нужно: $target\\_g = gradient(target, W)$\n",
    "\n",
    "Вычислим градиенты слагаемых аналитически (сделаем важное упоминание: TF способен проводить вычисления и без этого преобразования, пример можно найти в истории версий файла [hessian-vector-product-mnist.ipynb](https://github.com/SerVB/tensor-methods/blob/master/hessian-vector-product-mnist.ipynb)).\n",
    "\n",
    "**Слагаемое 1**:\n",
    "\n",
    "Для краткости заменим $C = gradient(cost, W)(W_k)$.\n",
    "\n",
    "$target\\_1\\_g = gradient(scalarProd(C, W-W_k), W) = \\dots$\n",
    "\n",
    "i-тый элемент в результате $= \\frac{d \\ scalarProd(C, W-W_k)}{d \\ W[i]} =$\n",
    "\n",
    "$= \\frac{d \\ \\sum_j C[j] \\cdot (W-W_k)[j]}{d \\ W[i]} =$\n",
    "\n",
    "$= \\frac{d \\ \\sum_j C[j] \\cdot W[j]}{d \\ W[i]} =$\n",
    "\n",
    "$= \\frac{d \\ C[i] \\cdot W[i]}{d \\ W[i]} =$\n",
    "\n",
    "$= C[i]$\n",
    "\n",
    "$\\dots = C$\n",
    "\n",
    "**Слагаемое 2**:\n",
    "\n",
    "Для краткости заменим $f(W) = hVecProd(cost, W, W-W_k)(W_k)$.\n",
    "\n",
    "$target\\_2\\_g = gradient(scalarProd(f(W), W-W_k), W) = \\dots$\n",
    "\n",
    "i-тый элемент в результате $= \\frac{d \\ scalarProd(f(W), W-W_k)}{d \\ W[i]} =$\n",
    "\n",
    "$= \\frac{d \\ \\sum_j f(W)[j] \\cdot (W-W_k)[j]}{d \\ W[i]} =$\n",
    "\n",
    "$= \\frac{d \\ f(W)[i] \\cdot (W-W_k)[i]}{d \\ W[i]} =$\n",
    "\n",
    "$= \\frac{d \\ f(W)[i]}{d \\ W[i]} \\cdot (W-W_k)[i]  + f(W)[i]$\n",
    "\n",
    "$\\dots = gradient(f(W), W) \\cdot (W - W_k) + f(W)$\n",
    "\n",
    "**Слагаемое 3**:\n",
    "\n",
    "$target\\_3\\_g = gradient(\\frac{M}{6} || W - W_k||^3, W) = \\dots$\n",
    "\n",
    "i-тый элемент в результате $= \\frac{d \\ \\frac{M}{6} || W - W_k||^3}{d \\ W[i]} =$\n",
    "\n",
    "$= \\frac{M}{6} \\frac{d \\ (\\sum^n_{j=1}(W[j] - W_k[j])^2)^{\\frac{3}{2}}}{d \\ W[i]}=$\n",
    "\n",
    "$= \\frac{M}{6} \\frac{3}{2} (\\sum^n_{j=1}(W[j] - W_k[j])^2)^{\\frac{1}{2}} \\frac{d(W[i]-W_k[i])^2}{d \\ W[i]}=$\n",
    "\n",
    "$= \\frac{M}{6} \\frac{3}{2} ||W-W_k|| 2 (W[i]-W_k[i])=$\n",
    "\n",
    "$= \\frac{M}{2} ||W-W_k|| (W[i]-W_k[i])$\n",
    "\n",
    "$\\dots = \\frac{M}{2} ||W-W_k|| (W-W_k)$\n",
    "\n",
    "**Итог**:\n",
    "\n",
    "$target\\_g = target\\_1\\_g + target\\_2\\_g + target\\_3\\_g$.\n",
    "\n",
    "Как видим, наши преобразования убрали вычисления скалярного произведения.\n",
    "\n",
    "Начнем программировать!"
   ],
   "metadata": {
    "collapsed": false,
    "pycharm": {
     "name": "#%% md\n"
    }
   }
  },
  {
   "cell_type": "code",
   "execution_count": 3,
   "outputs": [],
   "source": [
    "# Готовим картинки:\n",
    "\n",
    "(train_images, train_labels), (test_images, test_labels) = mnist.load_data()\n",
    "\n",
    "train_images = train_images / 255\n",
    "test_images = test_images / 255\n",
    "\n",
    "feature_count = train_images.shape[1] * train_images.shape[2]\n",
    "class_count = len(set(train_labels))"
   ],
   "metadata": {
    "collapsed": false,
    "pycharm": {
     "name": "#%%\n"
    }
   }
  },
  {
   "cell_type": "code",
   "execution_count": 4,
   "outputs": [],
   "source": [
    "# Объявим функции для преобразования картинок в тензоры:\n",
    "\n",
    "def result_vector(labels, object_ids):\n",
    "    class_ids = labels[object_ids]\n",
    "    answer = np.zeros((len(object_ids), class_count), dtype=dtype)\n",
    "\n",
    "    for i in range(len(object_ids)):\n",
    "        answer[i][class_ids[i]] = 1\n",
    "    return answer\n",
    "\n",
    "def feature_vector(images, object_ids):\n",
    "    flatten = images[object_ids].reshape((len(object_ids), feature_count))\n",
    "    return np.append(flatten, np.ones((len(object_ids), 1)), axis=1)  # add bias feature"
   ],
   "metadata": {
    "collapsed": false,
    "pycharm": {
     "name": "#%%\n"
    }
   }
  },
  {
   "cell_type": "code",
   "execution_count": 5,
   "outputs": [],
   "source": [
    "# И функцию для получения партии для обучения:\n",
    "\n",
    "batch_size = 300\n",
    "\n",
    "def get_random_samples_x_y():\n",
    "    object_ids = random.sample(range(len(train_images)), batch_size)\n",
    "    return feature_vector(train_images, object_ids), result_vector(train_labels, object_ids)"
   ],
   "metadata": {
    "collapsed": false,
    "pycharm": {
     "name": "#%%\n"
    }
   }
  },
  {
   "cell_type": "code",
   "execution_count": 6,
   "outputs": [],
   "source": [
    "# Функции для тестирования модели:\n",
    "\n",
    "def get_test_data():\n",
    "    object_ids = np.arange(len(test_images))\n",
    "    return feature_vector(test_images, object_ids), result_vector(test_labels, object_ids)\n",
    "\n",
    "test_features, test_answers = get_test_data()\n",
    "\n",
    "def calc_accuracy(predictions, x, sess):\n",
    "    predictions_count = len(test_images)\n",
    "    predicted = sess.run(predictions, feed_dict={x: test_features})\n",
    "    correct = sum(np.argmax(predicted, axis=1) == np.argmax(test_answers, axis=1))\n",
    "\n",
    "    return correct / predictions_count"
   ],
   "metadata": {
    "collapsed": false,
    "pycharm": {
     "name": "#%%\n"
    }
   }
  },
  {
   "cell_type": "code",
   "execution_count": 7,
   "outputs": [],
   "source": [
    "# Сформируем функцию для обучения логистической регрессии:\n",
    "\n",
    "step_factor = 0.001\n",
    "M_value = 6  # Возьмем 6 для тестов, но можем подставить любое число\n",
    "\n",
    "maximum_steps = 10  # Количество шагов для нахождения Arg min\n",
    "maximum_major_steps = 70  # Количество нахождений Arg min\n",
    "\n",
    "def fit_regression(sess):\n",
    "    print(f\"{datetime.now()}: Starting\")\n",
    "\n",
    "    with sess:\n",
    "        x = tf.placeholder(dtype, [None, feature_count + 1], name=\"x\")\n",
    "        y = tf.placeholder(dtype, [None, class_count], name=\"y\")\n",
    "\n",
    "        M = tf.constant(M_value, dtype, name=\"M\")\n",
    "\n",
    "        W_k = tf.Variable(tf.zeros([feature_count + 1, class_count], dtype), name=\"W_k\")\n",
    "        W = tf.Variable(tf.zeros([feature_count + 1, class_count], dtype), name=\"W\")\n",
    "\n",
    "        predictions = tf.nn.softmax(tf.matmul(x, W_k))\n",
    "        cost = tf.nn.sigmoid_cross_entropy_with_logits(logits=predictions, labels=y)\n",
    "\n",
    "        g = tf.gradients(cost, W_k)[0]\n",
    "        h_vec_prod = _hessian_vector_product(cost, [W_k], [W - W_k])[0]\n",
    "\n",
    "        # Заметим, что градиент от cost не меняется в пределах одного нахождения Arg min,\n",
    "        # поэтому вынесем его в переменную и будем вычислять это значение во внешнем цикле:\n",
    "        g_value = tf.Variable(tf.zeros([feature_count + 1, class_count], dtype), name=\"g_value\")\n",
    "        update_g_value = g_value.assign(g)\n",
    "\n",
    "        target_0_g = g_value\n",
    "        target_1_g = 0.5 * (tf.gradients(h_vec_prod, W_k)[0] * (W - W_k) + h_vec_prod)\n",
    "        target_2_g = M / 2 * tf.norm(W - W_k) * (W - W_k)\n",
    "        target_g = target_0_g + target_1_g + target_2_g\n",
    "\n",
    "        update_W = W.assign_sub(step_factor * target_g)\n",
    "\n",
    "        update_W_k = W_k.assign(W)\n",
    "\n",
    "        init = tf.variables_initializer([W_k, W, g_value])\n",
    "\n",
    "        print(f\"{datetime.now()}: Graph created\")\n",
    "\n",
    "        sess.run(init)\n",
    "\n",
    "        print(f\"{datetime.now()}: Variables initialized\")\n",
    "\n",
    "        with tqdm(total=maximum_major_steps * maximum_steps) as pbar:\n",
    "            for major_steps in range(maximum_major_steps):\n",
    "                features, answers = get_random_samples_x_y()\n",
    "                sess.run(update_g_value, feed_dict={x: features, y: answers})\n",
    "\n",
    "                for steps in range(maximum_steps):\n",
    "                    sess.run(update_W, feed_dict={x: features, y: answers})\n",
    "                    pbar.update(1)\n",
    "\n",
    "                sess.run(update_W_k)\n",
    "\n",
    "        accuracy = calc_accuracy(predictions=predictions, x=x, sess=sess)\n",
    "\n",
    "        print(f\"{datetime.now()}: Completed, accuracy = {accuracy}\")"
   ],
   "metadata": {
    "collapsed": false,
    "pycharm": {
     "name": "#%%\n"
    }
   }
  },
  {
   "cell_type": "code",
   "execution_count": 8,
   "outputs": [
    {
     "name": "stdout",
     "output_type": "stream",
     "text": [
      "CPU:\n",
      "2020-06-14 03:55:47.243986: Starting\n",
      "WARNING:tensorflow:From c:\\users\\servb\\documents\\works\\tensor-methods\\venv\\lib\\site-packages\\tensorflow_core\\python\\ops\\nn_impl.py:183: where (from tensorflow.python.ops.array_ops) is deprecated and will be removed in a future version.\n",
      "Instructions for updating:\n",
      "Use tf.where in 2.0, which has the same broadcast rule as np.where\n",
      "2020-06-14 03:55:47.680544: Graph created\n",
      "2020-06-14 03:55:47.746542: Variables initialized\n",
      "2020-06-14 03:56:29.205945: Completed, accuracy = 0.8927\n",
      "GPU:\n",
      "2020-06-14 03:56:30.867873: Starting\n",
      "2020-06-14 03:56:31.212870: Graph created\n",
      "2020-06-14 03:56:31.875612: Variables initialized\n",
      "2020-06-14 03:56:36.838734: Completed, accuracy = 0.8862\n"
     ]
    },
    {
     "name": "stderr",
     "output_type": "stream",
     "text": [
      "100%|██████████| 700/700 [00:41<00:00, 17.04it/s]\n",
      "100%|██████████| 700/700 [00:04<00:00, 144.42it/s]\n"
     ]
    }
   ],
   "source": [
    "# Запустим:\n",
    "\n",
    "print(\"CPU:\")\n",
    "fit_regression(tf.Session(config=tf.ConfigProto(device_count={\"GPU\": 0})))\n",
    "print(\"GPU:\")\n",
    "fit_regression(tf.Session())"
   ],
   "metadata": {
    "collapsed": false,
    "pycharm": {
     "name": "#%%\n"
    }
   }
  },
  {
   "cell_type": "markdown",
   "source": [
    "Как видим, оба варианта показывают сравнимый процент правильных ответов на тестовой выборке. Однако скорость обучения на GPU примерно на порядок быстрее (41 секунда против четырех секунд).\n",
    "\n",
    "Таким образом, можно утверждать, что использование GPU для тензорных методов оптимизации оправдано."
   ],
   "metadata": {
    "collapsed": false,
    "pycharm": {
     "name": "#%% md\n"
    }
   }
  }
 ],
 "metadata": {
  "kernelspec": {
   "display_name": "Python 3",
   "language": "python",
   "name": "python3"
  },
  "language_info": {
   "codemirror_mode": {
    "name": "ipython",
    "version": 2
   },
   "file_extension": ".py",
   "mimetype": "text/x-python",
   "name": "python",
   "nbconvert_exporter": "python",
   "pygments_lexer": "ipython2",
   "version": "2.7.6"
  }
 },
 "nbformat": 4,
 "nbformat_minor": 0
}