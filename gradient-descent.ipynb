{
 "cells": [
  {
   "cell_type": "code",
   "execution_count": 1,
   "metadata": {
    "collapsed": true
   },
   "outputs": [],
   "source": [
    "import numpy as np\n",
    "import pandas as pd\n",
    "import tensorflow as tf\n",
    "from tqdm import tqdm"
   ]
  },
  {
   "cell_type": "markdown",
   "source": [
    "$min_y (f'(x_k)^T (y-x_k)+1/2 * (y-x_k)^T f''(x_k) (y-x_k) +L/6 ||y-x_k||^3)$"
   ],
   "metadata": {
    "collapsed": false,
    "pycharm": {
     "name": "#%% md\n"
    }
   }
  },
  {
   "cell_type": "code",
   "execution_count": 19,
   "outputs": [],
   "source": [
    "def to_vertical_matrix(vector):\n",
    "    return tf.expand_dims(vector, 1)\n",
    "\n",
    "# N = 2\n",
    "# x_k_value = [2.0, 1.0]\n",
    "# L = 6.0\n",
    "# point = (0,0)\n",
    "\n",
    "# Graph: https://www.desmos.com/calculator/9pd0mtvbdw\n",
    "N = 1\n",
    "x_k_value = (2.0,)\n",
    "L = 6.0\n",
    "point = (0,)\n",
    "\n",
    "step_factor = 0.001\n",
    "\n",
    "x_k = tf.placeholder(tf.float64, [N], \"x_k\")\n",
    "y = tf.placeholder(tf.float64, [N], \"y\")\n",
    "\n",
    "# f = x_k[0] ** 2 + x_k[1] ** 2\n",
    "f = x_k[0] ** 2\n",
    "\n",
    "g_f = tf.gradients(f, x_k)[0]\n",
    "h_f = tf.hessians(f, x_k)[0]\n",
    "\n",
    "target = tf.transpose(to_vertical_matrix(g_f)) @ to_vertical_matrix(y - x_k) + \\\n",
    "    0.5 * tf.transpose(to_vertical_matrix(y - x_k)) @ h_f @ to_vertical_matrix(y - x_k) + \\\n",
    "    L / 6 * (tf.norm(y - x_k) ** 3)\n"
   ],
   "metadata": {
    "collapsed": false,
    "pycharm": {
     "name": "#%%\n"
    }
   }
  },
  {
   "cell_type": "code",
   "execution_count": 20,
   "outputs": [
    {
     "name": "stderr",
     "output_type": "stream",
     "text": [
      "  1%|▏         | 714/50000 [00:03<04:23, 187.04it/s]\n"
     ]
    },
    {
     "data": {
      "text/plain": "    Step    target                       y\n0      0  4.000000                    (0,)\n1      1  3.857006                (0.012,)\n2      2  3.717973          (0.023832432,)\n3      3  3.582771   (0.0355004819064451,)\n4      4  3.451277  (0.04700725601240164,)\n..   ...       ...                     ...\n711  711 -2.064533   (1.1270060142725586,)\n712  712 -2.064534   (1.1270383577413623,)\n713  713 -2.064535   (1.1270704671124443,)\n714  714 -2.064536   (1.1271023440863812,)\n715  715 -2.064537    (1.127133990351307,)\n\n[716 rows x 3 columns]",
      "text/html": "<div>\n<style scoped>\n    .dataframe tbody tr th:only-of-type {\n        vertical-align: middle;\n    }\n\n    .dataframe tbody tr th {\n        vertical-align: top;\n    }\n\n    .dataframe thead th {\n        text-align: right;\n    }\n</style>\n<table border=\"1\" class=\"dataframe\">\n  <thead>\n    <tr style=\"text-align: right;\">\n      <th></th>\n      <th>Step</th>\n      <th>target</th>\n      <th>y</th>\n    </tr>\n  </thead>\n  <tbody>\n    <tr>\n      <th>0</th>\n      <td>0</td>\n      <td>4.000000</td>\n      <td>(0,)</td>\n    </tr>\n    <tr>\n      <th>1</th>\n      <td>1</td>\n      <td>3.857006</td>\n      <td>(0.012,)</td>\n    </tr>\n    <tr>\n      <th>2</th>\n      <td>2</td>\n      <td>3.717973</td>\n      <td>(0.023832432,)</td>\n    </tr>\n    <tr>\n      <th>3</th>\n      <td>3</td>\n      <td>3.582771</td>\n      <td>(0.0355004819064451,)</td>\n    </tr>\n    <tr>\n      <th>4</th>\n      <td>4</td>\n      <td>3.451277</td>\n      <td>(0.04700725601240164,)</td>\n    </tr>\n    <tr>\n      <th>...</th>\n      <td>...</td>\n      <td>...</td>\n      <td>...</td>\n    </tr>\n    <tr>\n      <th>711</th>\n      <td>711</td>\n      <td>-2.064533</td>\n      <td>(1.1270060142725586,)</td>\n    </tr>\n    <tr>\n      <th>712</th>\n      <td>712</td>\n      <td>-2.064534</td>\n      <td>(1.1270383577413623,)</td>\n    </tr>\n    <tr>\n      <th>713</th>\n      <td>713</td>\n      <td>-2.064535</td>\n      <td>(1.1270704671124443,)</td>\n    </tr>\n    <tr>\n      <th>714</th>\n      <td>714</td>\n      <td>-2.064536</td>\n      <td>(1.1271023440863812,)</td>\n    </tr>\n    <tr>\n      <th>715</th>\n      <td>715</td>\n      <td>-2.064537</td>\n      <td>(1.127133990351307,)</td>\n    </tr>\n  </tbody>\n</table>\n<p>716 rows × 3 columns</p>\n</div>"
     },
     "execution_count": 20,
     "metadata": {},
     "output_type": "execute_result"
    }
   ],
   "source": [
    "maximum_steps = 50_000  # Make it finish\n",
    "\n",
    "answer = pd.DataFrame(columns=[\n",
    "    \"Step\",\n",
    "    \"target\",\n",
    "    \"y\",\n",
    "])\n",
    "\n",
    "g_target = tf.gradients(target, y)\n",
    "with tf.Session() as sess:\n",
    "    previous_value = sess.run(target, feed_dict={x_k: x_k_value, y: point})[0][0]\n",
    "\n",
    "    answer.loc[len(answer)] = [0, previous_value, point]\n",
    "\n",
    "    for steps in tqdm(range(1, maximum_steps + 1)):\n",
    "        gradient = sess.run(g_target, feed_dict={x_k: x_k_value, y: point})[0]\n",
    "        point = tuple(np.array(point) - step_factor * np.array(gradient))\n",
    "        current_value = sess.run(target, feed_dict={x_k: x_k_value, y: point})[0][0]\n",
    "\n",
    "        answer.loc[len(answer)] = [steps, current_value, point]\n",
    "\n",
    "        if abs(current_value - previous_value) < 1e-6:\n",
    "            break\n",
    "\n",
    "        previous_value = current_value\n",
    "\n",
    "answer"
   ],
   "metadata": {
    "collapsed": false,
    "pycharm": {
     "name": "#%%\n"
    }
   }
  }
 ],
 "metadata": {
  "kernelspec": {
   "display_name": "Python 3",
   "language": "python",
   "name": "python3"
  },
  "language_info": {
   "codemirror_mode": {
    "name": "ipython",
    "version": 2
   },
   "file_extension": ".py",
   "mimetype": "text/x-python",
   "name": "python",
   "nbconvert_exporter": "python",
   "pygments_lexer": "ipython2",
   "version": "2.7.6"
  }
 },
 "nbformat": 4,
 "nbformat_minor": 0
}