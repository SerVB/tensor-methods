{
 "cells": [
  {
   "cell_type": "code",
   "execution_count": 1,
   "outputs": [],
   "source": [
    "from datetime import datetime\n",
    "import matplotlib.pyplot as plt\n",
    "import numpy as np\n",
    "import pandas as pd\n",
    "import tensorflow as tf\n",
    "from tensorflow.python.ops.gradients_impl import _hessian_vector_product"
   ],
   "metadata": {
    "collapsed": false,
    "pycharm": {
     "name": "#%%\n"
    }
   }
  },
  {
   "cell_type": "code",
   "execution_count": 2,
   "outputs": [
    {
     "name": "stdout",
     "output_type": "stream",
     "text": [
      "[[-0.07523093  0.24884787  1.        ]\n",
      " [ 1.06208307  1.16458903  1.        ]\n",
      " [ 1.06368328  0.85945906  1.        ]]\n",
      "[[0. 1.]\n",
      " [1. 0.]\n",
      " [1. 0.]]\n"
     ]
    }
   ],
   "source": [
    "class_count = 2\n",
    "\n",
    "def generate_two_classes_data(feature_count: int, object_count: int):\n",
    "    \"\"\"\n",
    "    Generates two classes: the first class has features near 0, the second – near 1.\n",
    "    :returns features (with bias=1 feature), answers\n",
    "    \"\"\"\n",
    "    features = np.concatenate((\n",
    "        np.random.normal(\n",
    "            np.concatenate((\n",
    "                np.zeros([object_count // 2, feature_count], dtype=np.float64),\n",
    "                np.ones([object_count - object_count // 2, feature_count], dtype=np.float64)\n",
    "            )),\n",
    "            scale=0.1\n",
    "        ),\n",
    "        np.ones([object_count, 1], dtype=np.float64)\n",
    "    ), axis=1)\n",
    "\n",
    "    answers = np.concatenate((\n",
    "        np.concatenate((\n",
    "            np.zeros([object_count // 2, 1], dtype=np.float64),\n",
    "            np.ones([object_count - object_count // 2, 1], dtype=np.float64)\n",
    "        )),\n",
    "        np.concatenate((\n",
    "            np.ones([object_count // 2, 1], dtype=np.float64),\n",
    "            np.zeros([object_count - object_count // 2, 1], dtype=np.float64)\n",
    "        ))\n",
    "    ), axis=1)\n",
    "\n",
    "    return features, answers\n",
    "\n",
    "f, a = generate_two_classes_data(2, 3)\n",
    "print(f)\n",
    "print(a)"
   ],
   "metadata": {
    "collapsed": false,
    "pycharm": {
     "name": "#%%\n"
    }
   }
  },
  {
   "cell_type": "code",
   "execution_count": 9,
   "outputs": [
    {
     "name": "stdout",
     "output_type": "stream",
     "text": [
      "Features: 100, g delta: 0.06799955368041992, h-vec delta: 0.11040019989013672\n",
      "Features: 1000, g delta: 0.07449970245361329, h-vec delta: 0.1128000020980835\n",
      "Features: 10000, g delta: 0.08189992904663086, h-vec delta: 0.11960046291351319\n",
      "Features: 100000, g delta: 0.11875019073486329, h-vec delta: 0.15729970932006837\n",
      "Features: 1000000, g delta: 0.4411057472229004, h-vec delta: 0.5117329597473145\n"
     ]
    }
   ],
   "source": [
    "np.random.seed(0)\n",
    "\n",
    "times = 10\n",
    "\n",
    "stats = pd.DataFrame(columns=['Feature Count', 'Gradient Avg Time (secs)', 'H-Vec Product Avg Time (secs)'])\n",
    "\n",
    "# for feature_count in (2,):\n",
    "# for feature_count in (10**2, 10**3, 10**4):\n",
    "for feature_count in (10**2, 10**3, 10**4, 10**5, 10**6):\n",
    "    object_count = 200\n",
    "\n",
    "    features, answers = generate_two_classes_data(feature_count=feature_count, object_count=object_count)\n",
    "\n",
    "    x = tf.placeholder(tf.float64, [None, feature_count + 1])\n",
    "    y = tf.placeholder(tf.float64, [None, class_count])\n",
    "\n",
    "    W = tf.Variable(tf.ones([feature_count + 1, class_count], tf.float64))\n",
    "\n",
    "    predictions = tf.nn.softmax(tf.matmul(x, W))\n",
    "    cost = tf.nn.sigmoid_cross_entropy_with_logits(logits=predictions, labels=y)\n",
    "\n",
    "    g = tf.gradients(cost, W)[0]\n",
    "    h_vec_product = _hessian_vector_product(cost, [W], [W])[0]\n",
    "\n",
    "    init = tf.global_variables_initializer()\n",
    "\n",
    "    g_deltas = []\n",
    "    h_vec_deltas = []\n",
    "\n",
    "    for i in range(times):\n",
    "        with tf.Session() as sess:\n",
    "            sess.run(init)\n",
    "\n",
    "            start = datetime.now().timestamp()\n",
    "            sess.run(g, feed_dict={x: features, y: answers})\n",
    "            g_deltas.append(datetime.now().timestamp() - start)\n",
    "\n",
    "            start = datetime.now().timestamp()\n",
    "            sess.run(h_vec_product, feed_dict={x: features, y: answers})\n",
    "            h_vec_deltas.append(datetime.now().timestamp() - start)\n",
    "\n",
    "    g_delta = sum(g_deltas) / len(g_deltas)\n",
    "    h_vec_delta = sum(h_vec_deltas) / len(h_vec_deltas)\n",
    "    print(f\"Features: {feature_count}, g delta: {g_delta}, h-vec delta: {h_vec_delta}\")\n",
    "    stats.loc[len(stats)] = [feature_count, g_delta, h_vec_delta]"
   ],
   "metadata": {
    "collapsed": false,
    "pycharm": {
     "name": "#%%\n"
    }
   }
  },
  {
   "cell_type": "code",
   "execution_count": 10,
   "outputs": [
    {
     "data": {
      "text/plain": "   Feature Count  Gradient Avg Time (secs)  H-Vec Product Avg Time (secs)\n0          100.0                  0.068000                       0.110400\n1         1000.0                  0.074500                       0.112800\n2        10000.0                  0.081900                       0.119600\n3       100000.0                  0.118750                       0.157300\n4      1000000.0                  0.441106                       0.511733",
      "text/html": "<div>\n<style scoped>\n    .dataframe tbody tr th:only-of-type {\n        vertical-align: middle;\n    }\n\n    .dataframe tbody tr th {\n        vertical-align: top;\n    }\n\n    .dataframe thead th {\n        text-align: right;\n    }\n</style>\n<table border=\"1\" class=\"dataframe\">\n  <thead>\n    <tr style=\"text-align: right;\">\n      <th></th>\n      <th>Feature Count</th>\n      <th>Gradient Avg Time (secs)</th>\n      <th>H-Vec Product Avg Time (secs)</th>\n    </tr>\n  </thead>\n  <tbody>\n    <tr>\n      <th>0</th>\n      <td>100.0</td>\n      <td>0.068000</td>\n      <td>0.110400</td>\n    </tr>\n    <tr>\n      <th>1</th>\n      <td>1000.0</td>\n      <td>0.074500</td>\n      <td>0.112800</td>\n    </tr>\n    <tr>\n      <th>2</th>\n      <td>10000.0</td>\n      <td>0.081900</td>\n      <td>0.119600</td>\n    </tr>\n    <tr>\n      <th>3</th>\n      <td>100000.0</td>\n      <td>0.118750</td>\n      <td>0.157300</td>\n    </tr>\n    <tr>\n      <th>4</th>\n      <td>1000000.0</td>\n      <td>0.441106</td>\n      <td>0.511733</td>\n    </tr>\n  </tbody>\n</table>\n</div>"
     },
     "execution_count": 10,
     "metadata": {},
     "output_type": "execute_result"
    }
   ],
   "source": [
    "stats"
   ],
   "metadata": {
    "collapsed": false,
    "pycharm": {
     "name": "#%%\n"
    }
   }
  }
 ],
 "metadata": {
  "kernelspec": {
   "display_name": "Python 3",
   "language": "python",
   "name": "python3"
  },
  "language_info": {
   "codemirror_mode": {
    "name": "ipython",
    "version": 2
   },
   "file_extension": ".py",
   "mimetype": "text/x-python",
   "name": "python",
   "nbconvert_exporter": "python",
   "pygments_lexer": "ipython2",
   "version": "2.7.6"
  }
 },
 "nbformat": 4,
 "nbformat_minor": 0
}