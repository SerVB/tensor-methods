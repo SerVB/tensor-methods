{
 "cells": [
  {
   "cell_type": "code",
   "execution_count": 5,
   "outputs": [],
   "source": [
    "from datetime import datetime\n",
    "import matplotlib.pyplot as plt\n",
    "import numpy as np\n",
    "import pandas as pd\n",
    "import tensorflow as tf"
   ],
   "metadata": {
    "collapsed": false,
    "pycharm": {
     "name": "#%%\n"
    }
   }
  },
  {
   "cell_type": "code",
   "execution_count": 6,
   "outputs": [
    {
     "name": "stdout",
     "output_type": "stream",
     "text": [
      "[[0.08725635 0.13529509 1.        ]\n",
      " [1.02984784 1.08944507 1.        ]\n",
      " [0.99803821 0.93320117 1.        ]]\n",
      "[[0. 1.]\n",
      " [1. 0.]\n",
      " [1. 0.]]\n"
     ]
    }
   ],
   "source": [
    "class_count = 2\n",
    "\n",
    "def generate_two_classes_data(feature_count: int, object_count: int):\n",
    "    \"\"\"\n",
    "    Generates two classes: the first class has features near 0, the second – near 1.\n",
    "    :returns features (with bias=1 feature), answers\n",
    "    \"\"\"\n",
    "    features = np.concatenate((\n",
    "        np.random.normal(\n",
    "            np.concatenate((\n",
    "                np.zeros([object_count // 2, feature_count], dtype=np.float64),\n",
    "                np.ones([object_count - object_count // 2, feature_count], dtype=np.float64)\n",
    "            )),\n",
    "            scale=0.1\n",
    "        ),\n",
    "        np.ones([object_count, 1], dtype=np.float64)\n",
    "    ), axis=1)\n",
    "\n",
    "    answers = np.concatenate((\n",
    "        np.concatenate((\n",
    "            np.zeros([object_count // 2, 1], dtype=np.float64),\n",
    "            np.ones([object_count - object_count // 2, 1], dtype=np.float64)\n",
    "        )),\n",
    "        np.concatenate((\n",
    "            np.ones([object_count // 2, 1], dtype=np.float64),\n",
    "            np.zeros([object_count - object_count // 2, 1], dtype=np.float64)\n",
    "        ))\n",
    "    ), axis=1)\n",
    "\n",
    "    return features, answers\n",
    "\n",
    "f, a = generate_two_classes_data(2, 3)\n",
    "print(f)\n",
    "print(a)"
   ],
   "metadata": {
    "collapsed": false,
    "pycharm": {
     "name": "#%%\n"
    }
   }
  },
  {
   "cell_type": "code",
   "execution_count": 7,
   "outputs": [
    {
     "name": "stdout",
     "output_type": "stream",
     "text": [
      "Features: 100, g delta: 0.06709966659545899, h delta: 0.2671994924545288\n",
      "Features: 1000, g delta: 0.07729930877685547, h delta: 1.6330993890762329\n",
      "Features: 10000, g delta: 0.09079964160919189, h delta: 15.082432126998901\n"
     ]
    }
   ],
   "source": [
    "np.random.seed(0)\n",
    "\n",
    "times = 10\n",
    "\n",
    "stats = pd.DataFrame(columns=['feature_count', 'g_delta', 'h_delta'])\n",
    "\n",
    "for feature_count in (10**2, 10**3, 10**4):\n",
    "# for feature_count in (10**2, 10**3, 10**4, 10**5, 10**6):\n",
    "    object_count = 200\n",
    "\n",
    "    features, answers = generate_two_classes_data(feature_count=feature_count, object_count=object_count)\n",
    "\n",
    "    x = tf.placeholder(tf.float64, [None, feature_count + 1])\n",
    "    y = tf.placeholder(tf.float64, [None, class_count])\n",
    "\n",
    "    W = tf.Variable(tf.zeros([feature_count + 1, class_count], tf.float64))\n",
    "\n",
    "    predictions = tf.nn.softmax(tf.matmul(x, W))\n",
    "    cost = tf.nn.sigmoid_cross_entropy_with_logits(logits=predictions, labels=y)\n",
    "\n",
    "    g = tf.gradients(cost, W)[0]\n",
    "    h = tf.hessians(cost, W)[0]\n",
    "    # h_vec_product = tf.matmul(h, W)  # todo: fix weights\n",
    "\n",
    "    init = tf.global_variables_initializer()\n",
    "\n",
    "    g_deltas = []\n",
    "    h_deltas = []\n",
    "\n",
    "    for i in range(times):\n",
    "        with tf.Session() as sess:\n",
    "            sess.run(init)\n",
    "\n",
    "            start = datetime.now().timestamp()\n",
    "            sess.run(g, feed_dict={x: features, y: answers})\n",
    "            g_deltas.append(datetime.now().timestamp() - start)\n",
    "\n",
    "            start = datetime.now().timestamp()\n",
    "            sess.run(h, feed_dict={x: features, y: answers})\n",
    "            h_deltas.append(datetime.now().timestamp() - start)\n",
    "\n",
    "    g_delta = sum(g_deltas) / len(g_deltas)\n",
    "    h_delta = sum(h_deltas) / len(h_deltas)\n",
    "    print(f\"Features: {feature_count}, g delta: {g_delta}, h delta: {h_delta}\")\n",
    "    stats.loc[len(stats)] = [feature_count, g_delta, h_delta]"
   ],
   "metadata": {
    "collapsed": false,
    "pycharm": {
     "name": "#%%\n"
    }
   }
  },
  {
   "cell_type": "code",
   "execution_count": 8,
   "outputs": [
    {
     "data": {
      "text/plain": "   feature_count   g_delta    h_delta\n0          100.0  0.067100   0.267199\n1         1000.0  0.077299   1.633099\n2        10000.0  0.090800  15.082432",
      "text/html": "<div>\n<style scoped>\n    .dataframe tbody tr th:only-of-type {\n        vertical-align: middle;\n    }\n\n    .dataframe tbody tr th {\n        vertical-align: top;\n    }\n\n    .dataframe thead th {\n        text-align: right;\n    }\n</style>\n<table border=\"1\" class=\"dataframe\">\n  <thead>\n    <tr style=\"text-align: right;\">\n      <th></th>\n      <th>feature_count</th>\n      <th>g_delta</th>\n      <th>h_delta</th>\n    </tr>\n  </thead>\n  <tbody>\n    <tr>\n      <th>0</th>\n      <td>100.0</td>\n      <td>0.067100</td>\n      <td>0.267199</td>\n    </tr>\n    <tr>\n      <th>1</th>\n      <td>1000.0</td>\n      <td>0.077299</td>\n      <td>1.633099</td>\n    </tr>\n    <tr>\n      <th>2</th>\n      <td>10000.0</td>\n      <td>0.090800</td>\n      <td>15.082432</td>\n    </tr>\n  </tbody>\n</table>\n</div>"
     },
     "execution_count": 8,
     "metadata": {},
     "output_type": "execute_result"
    }
   ],
   "source": [
    "stats"
   ],
   "metadata": {
    "collapsed": false,
    "pycharm": {
     "name": "#%%\n"
    }
   }
  }
 ],
 "metadata": {
  "kernelspec": {
   "display_name": "Python 3",
   "language": "python",
   "name": "python3"
  },
  "language_info": {
   "codemirror_mode": {
    "name": "ipython",
    "version": 2
   },
   "file_extension": ".py",
   "mimetype": "text/x-python",
   "name": "python",
   "nbconvert_exporter": "python",
   "pygments_lexer": "ipython2",
   "version": "2.7.6"
  }
 },
 "nbformat": 4,
 "nbformat_minor": 0
}