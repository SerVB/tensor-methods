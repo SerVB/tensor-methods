{
 "cells": [
  {
   "cell_type": "code",
   "execution_count": 1,
   "metadata": {
    "collapsed": true
   },
   "outputs": [],
   "source": [
    "from datetime import datetime\n",
    "import matplotlib.pyplot as plt\n",
    "import numpy as np\n",
    "import pandas as pd\n",
    "from random import randrange\n",
    "import tensorflow as tf\n",
    "from tensorflow.keras.datasets import mnist\n",
    "from tqdm import tqdm"
   ]
  },
  {
   "cell_type": "code",
   "execution_count": 2,
   "outputs": [],
   "source": [
    "(train_images, train_labels), (test_images, test_labels) = mnist.load_data()\n",
    "\n",
    "train_images = train_images / 255\n",
    "test_images = test_images / 255"
   ],
   "metadata": {
    "collapsed": false,
    "pycharm": {
     "name": "#%%\n"
    }
   }
  },
  {
   "cell_type": "code",
   "execution_count": 3,
   "outputs": [],
   "source": [
    "feature_count = train_images.shape[1] * train_images.shape[2]\n",
    "class_count = len(set(train_labels))"
   ],
   "metadata": {
    "collapsed": false,
    "pycharm": {
     "name": "#%%\n"
    }
   }
  },
  {
   "cell_type": "code",
   "execution_count": 4,
   "outputs": [],
   "source": [
    "def result_vector(labels, object_id: int):\n",
    "    class_id = labels[object_id]\n",
    "    answer = np.zeros(class_count, dtype=np.float64)\n",
    "    answer[class_id] = 1\n",
    "    return answer\n",
    "\n",
    "def feature_vector(images, object_id: int):\n",
    "    flatten = images[object_id].reshape(feature_count)\n",
    "    return np.append(flatten, [1])  # add bias feature"
   ],
   "metadata": {
    "collapsed": false,
    "pycharm": {
     "name": "#%%\n"
    }
   }
  },
  {
   "cell_type": "code",
   "execution_count": 5,
   "outputs": [],
   "source": [
    "def get_random_samples_x_y():\n",
    "    # currently batch size = 1\n",
    "\n",
    "    object_id = randrange(len(train_images))\n",
    "    return [feature_vector(train_images, object_id)], [result_vector(train_labels, object_id)]"
   ],
   "metadata": {
    "collapsed": false,
    "pycharm": {
     "name": "#%%\n"
    }
   }
  },
  {
   "cell_type": "code",
   "execution_count": 11,
   "outputs": [
    {
     "name": "stderr",
     "output_type": "stream",
     "text": [
      "100%|██████████| 10000/10000 [00:14<00:00, 700.17it/s]\n"
     ]
    }
   ],
   "source": [
    "maximum_steps = 10000\n",
    "step_factor = 0.1\n",
    "\n",
    "x = tf.placeholder(tf.float64, [None, feature_count + 1])\n",
    "y = tf.placeholder(tf.float64, [None, class_count])\n",
    "\n",
    "W = tf.Variable(tf.ones([feature_count + 1, class_count], tf.float64))\n",
    "\n",
    "predictions = tf.nn.softmax(tf.matmul(x, W))\n",
    "cost = tf.nn.sigmoid_cross_entropy_with_logits(logits=predictions, labels=y)\n",
    "\n",
    "g = tf.gradients(cost, W)[0]\n",
    "update_W = W.assign_sub(step_factor * g)\n",
    "\n",
    "init = tf.global_variables_initializer()\n",
    "\n",
    "with tf.Session() as sess:\n",
    "    sess.run(init)\n",
    "\n",
    "    for steps in tqdm(range(1, maximum_steps + 1)):\n",
    "        features, answers = get_random_samples_x_y()\n",
    "\n",
    "        sess.run(update_W, feed_dict={x: features, y: answers})\n",
    "\n",
    "    W_trained = sess.run(W)"
   ],
   "metadata": {
    "collapsed": false,
    "pycharm": {
     "name": "#%%\n"
    }
   }
  },
  {
   "cell_type": "code",
   "execution_count": 12,
   "outputs": [
    {
     "name": "stderr",
     "output_type": "stream",
     "text": [
      "100%|██████████| 10000/10000 [00:11<00:00, 871.68it/s]\n"
     ]
    },
    {
     "name": "stdout",
     "output_type": "stream",
     "text": [
      "correct ratio: 0.896\n"
     ]
    }
   ],
   "source": [
    "def get_random_test_x_label():\n",
    "    object_id = randrange(len(test_images))\n",
    "    return [feature_vector(test_images, object_id)], test_labels[object_id]\n",
    "\n",
    "def get_label(predicted):\n",
    "    return np.argmax(predicted)\n",
    "\n",
    "\n",
    "correct = 0\n",
    "predictions_count = 10000\n",
    "\n",
    "with tf.Session() as sess:\n",
    "    sess.run(W.assign(W_trained))\n",
    "\n",
    "    for i in tqdm(range(predictions_count)):\n",
    "        features, answer_label = get_random_test_x_label()\n",
    "        predicted = sess.run(predictions, feed_dict={x: features})\n",
    "\n",
    "        predicted_label = get_label(predicted)\n",
    "\n",
    "        if answer_label == predicted_label:\n",
    "            correct += 1\n",
    "\n",
    "print(\"correct ratio:\", correct / predictions_count)"
   ],
   "metadata": {
    "collapsed": false,
    "pycharm": {
     "name": "#%%\n"
    }
   }
  }
 ],
 "metadata": {
  "kernelspec": {
   "display_name": "Python 3",
   "language": "python",
   "name": "python3"
  },
  "language_info": {
   "codemirror_mode": {
    "name": "ipython",
    "version": 2
   },
   "file_extension": ".py",
   "mimetype": "text/x-python",
   "name": "python",
   "nbconvert_exporter": "python",
   "pygments_lexer": "ipython2",
   "version": "2.7.6"
  }
 },
 "nbformat": 4,
 "nbformat_minor": 0
}