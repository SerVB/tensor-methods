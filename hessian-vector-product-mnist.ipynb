{
 "cells": [
  {
   "cell_type": "markdown",
   "metadata": {
    "collapsed": true,
    "pycharm": {
     "name": "#%% md\n"
    }
   },
   "source": [
    "$Arg \\ min_y [scalarProd(f'(x), y-x) + \\frac{1}{2} \\cdot scalarProd(f''(x)(y-x), y-x) + \\frac{M}{6} ||y-x||^3]$ для логистической регрессии – решаем спуском.\n",
    "\n",
    "$y$ – текущие веса, размерность `[featureCount + 1, clsCount]` (`+ 1` из-за добавления `bias` признака). Заменяем на $W$.\n",
    "\n",
    "$Arg \\ min_W [scalarProd(f'(x), W-x) + \\frac{1}{2} \\cdot scalarProd(f''(x)(W-x), W-x) + \\frac{M}{6} ||W-x||^3]$\n",
    "\n",
    "$x$ – константа с весами, размерность `[featureCount + 1, clsCount]` (`+ 1` из-за добавления `bias` признака). Заменяем на $W_k$.\n",
    "\n",
    "$Arg \\ min_W [scalarProd(f'(W_k), W-W_k) + \\frac{1}{2} \\cdot scalarProd(f''(W_k)(W-W_k), W-W_k) + \\frac{M}{6} ||W-W_k||^3]$\n",
    "\n",
    "$f$ – заменяем на $cost$.\n",
    "\n",
    "$Arg \\ min_W [scalarProd(cost'_W(W_k), W-W_k) + \\frac{1}{2} \\cdot scalarProd(cost''_W(W_k)(W-W_k), W-W_k) + \\frac{M}{6} ||W-W_k||^3]$\n",
    "\n",
    "Меняем $cost''_W(W_k)(W-W_k)$ на $hVecProd$.\n",
    "\n",
    "$Arg \\ min_W [scalarProd(cost'_W(W_k), W-W_k) + \\frac{1}{2} \\cdot scalarProd(hVecProd(cost, W, W-W_k)(W_k), W-W_k) + \\frac{M}{6} ||W-W_k||^3]$\n",
    "\n",
    "Прописываем точный вызов градиента.\n",
    "\n",
    "$Arg \\ min_W [scalarProd(gradient(cost, W)(W_k), W-W_k) + \\frac{1}{2} \\cdot scalarProd(hVecProd(cost, W, W-W_k)(W_k), W-W_k) + \\frac{M}{6} ||W-W_k||^3]$\n",
    "\n",
    "$scalarProd$ трактуем как сумму поэлементных перемножений матриц, норма – корень из суммы квадратов элементов матрицы."
   ]
  }
 ],
 "metadata": {
  "kernelspec": {
   "display_name": "Python 3",
   "language": "python",
   "name": "python3"
  },
  "language_info": {
   "codemirror_mode": {
    "name": "ipython",
    "version": 2
   },
   "file_extension": ".py",
   "mimetype": "text/x-python",
   "name": "python",
   "nbconvert_exporter": "python",
   "pygments_lexer": "ipython2",
   "version": "2.7.6"
  }
 },
 "nbformat": 4,
 "nbformat_minor": 0
}